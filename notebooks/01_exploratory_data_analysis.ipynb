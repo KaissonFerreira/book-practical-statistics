{
 "cells": [
  {
   "cell_type": "markdown",
   "metadata": {},
   "source": [
    "# Chapter 01: Exploratory Data Analysis\n",
    "\n",
    "- Nesse capítulo será abordado os princípais tópicos de estatística para descrevar e analisar previamente os dados."
   ]
  },
  {
   "cell_type": "markdown",
   "metadata": {},
   "source": [
    "Em contraste com a teoria pura e natural da probabilidade, a estatística por sua vez é uma ciência aplicada que se concentra na análise e modelagem dos dados."
   ]
  },
  {
   "cell_type": "markdown",
   "metadata": {},
   "source": [
    "### Elements of Structured Data\n",
    "\n",
    "Data comes from many sources: Sensor measuraments, events, text, images and videos.\n",
    "    "
   ]
  },
  {
   "cell_type": "markdown",
   "metadata": {},
   "source": [
    "* **Key terms for data types**\n",
    "\n",
    "    - Continuos: Em um único intervalo, pode haver infinitos valores. Interval, numeric, float.\n",
    "\n",
    "    - Discrete: Data that can take on only integer values, such as counts. Interger, count.\n",
    "\n",
    "    - Categorical: Data that can take on only specific set of values representing a set of possible categories. nominal.\n",
    "    \n",
    "    - Binary: A special case of categorical data with just two categories of values (1/0 , True / False). Boolean\n",
    "\n",
    "    - Ordinal: Categorical data that has an explicit ordering.\n",
    "    "
   ]
  },
  {
   "cell_type": "markdown",
   "metadata": {},
   "source": [
    "### Rectangular Data\n",
    "\n",
    "- The typical frame of reference for an analysis in data science is a rectangular\n",
    "data object, like a spreadsheet or database table."
   ]
  },
  {
   "cell_type": "markdown",
   "metadata": {},
   "source": [
    "* **Key terms for Rectangular Data**\n",
    "    - Data frame: Rectangular data (like a spreadsheet) is the basic data structure for statistical and machine\n",
    "    learning models.\n",
    "    - Feature: A column in the table is commonly referred to as a feature.\n",
    "        * Synonyms : attribute, input, predictor, variable\n",
    "    - Outcome: Many data science projects involve predicting an outcome — often a yes/no outcome (in Table 1- 1, it is “auction was competitive or not”). The features are sometimes used to predict the outcome in an experiment or study.\n",
    "        * Synonyms: dependent variable, response, target, output\n",
    "    - Records: A row in the table is commonly referred to as a record.\n",
    "        * Synonyms: case, example, instance, observation, pattern, sample"
   ]
  },
  {
   "cell_type": "markdown",
   "metadata": {},
   "source": [
    "# Estudando com códigos"
   ]
  },
  {
   "cell_type": "code",
   "execution_count": 2,
   "metadata": {},
   "outputs": [],
   "source": [
    "%matplotlib inline\n",
    "\n",
    "from pathlib import Path\n",
    "\n",
    "import pandas as pd\n",
    "import numpy as np\n",
    "from scipy.stats import trim_mean\n",
    "from statsmodels import robust\n",
    "import wquantiles\n",
    "\n",
    "import seaborn as sns\n",
    "import matplotlib.pylab as plt"
   ]
  },
  {
   "cell_type": "code",
   "execution_count": 3,
   "metadata": {},
   "outputs": [
    {
     "data": {
      "text/html": [
       "<div>\n",
       "<style scoped>\n",
       "    .dataframe tbody tr th:only-of-type {\n",
       "        vertical-align: middle;\n",
       "    }\n",
       "\n",
       "    .dataframe tbody tr th {\n",
       "        vertical-align: top;\n",
       "    }\n",
       "\n",
       "    .dataframe thead th {\n",
       "        text-align: right;\n",
       "    }\n",
       "</style>\n",
       "<table border=\"1\" class=\"dataframe\">\n",
       "  <thead>\n",
       "    <tr style=\"text-align: right;\">\n",
       "      <th></th>\n",
       "      <th>State</th>\n",
       "      <th>Population</th>\n",
       "      <th>Murder.Rate</th>\n",
       "      <th>Abbreviation</th>\n",
       "    </tr>\n",
       "  </thead>\n",
       "  <tbody>\n",
       "    <tr>\n",
       "      <th>0</th>\n",
       "      <td>Alabama</td>\n",
       "      <td>4779736</td>\n",
       "      <td>5.7</td>\n",
       "      <td>AL</td>\n",
       "    </tr>\n",
       "    <tr>\n",
       "      <th>1</th>\n",
       "      <td>Alaska</td>\n",
       "      <td>710231</td>\n",
       "      <td>5.6</td>\n",
       "      <td>AK</td>\n",
       "    </tr>\n",
       "    <tr>\n",
       "      <th>2</th>\n",
       "      <td>Arizona</td>\n",
       "      <td>6392017</td>\n",
       "      <td>4.7</td>\n",
       "      <td>AZ</td>\n",
       "    </tr>\n",
       "    <tr>\n",
       "      <th>3</th>\n",
       "      <td>Arkansas</td>\n",
       "      <td>2915918</td>\n",
       "      <td>5.6</td>\n",
       "      <td>AR</td>\n",
       "    </tr>\n",
       "    <tr>\n",
       "      <th>4</th>\n",
       "      <td>California</td>\n",
       "      <td>37253956</td>\n",
       "      <td>4.4</td>\n",
       "      <td>CA</td>\n",
       "    </tr>\n",
       "  </tbody>\n",
       "</table>\n",
       "</div>"
      ],
      "text/plain": [
       "        State  Population  Murder.Rate Abbreviation\n",
       "0     Alabama     4779736          5.7           AL\n",
       "1      Alaska      710231          5.6           AK\n",
       "2     Arizona     6392017          4.7           AZ\n",
       "3    Arkansas     2915918          5.6           AR\n",
       "4  California    37253956          4.4           CA"
      ]
     },
     "execution_count": 3,
     "metadata": {},
     "output_type": "execute_result"
    }
   ],
   "source": [
    "\n",
    "path = r'D:\\CDS\\Livros\\Estatística\\book-practical-statistics\\data\\raw\\state.csv'\n",
    "df_stats = pd.read_csv(path, sep=';')\n",
    "df_stats.head()"
   ]
  },
  {
   "cell_type": "markdown",
   "metadata": {},
   "source": [
    "## Key terms for estimate of location"
   ]
  },
  {
   "cell_type": "markdown",
   "metadata": {},
   "source": [
    "**Algumas medidas de tendência central**\n",
    "- Média (Sensível a valores extremos)\n",
    "- Média ponderada (Muito utilizado para dar vantagens a classes com mais pesos, podendo assim ter uma estimativa real da média da população como um todo)\n",
    "- Mediana (Menos sensível a outliers)\n",
    "- Mediana ponderada\n",
    "\n",
    "**Outros termos chaves**\n",
    "- Outliers (Facilmente mensurado por um box plot)"
   ]
  },
  {
   "cell_type": "code",
   "execution_count": 7,
   "metadata": {},
   "outputs": [
    {
     "name": "stdout",
     "output_type": "stream",
     "text": [
      "Média da população: 6162876.3\n",
      "Média da população após retirar 10% dos dados extremos: 4783697.125\n",
      "Média da taxa de assassinato: 4.066\n",
      "Média ponderada da taxa de assassinato: 4.445833981123393\n",
      "Mediana da população: 4436369.5\n"
     ]
    }
   ],
   "source": [
    "# mean\n",
    "print('Média da população:',df_stats['Population'].mean())\n",
    "print('Média da população após retirar 10% dos dados extremos:',trim_mean(df_stats['Population'], 0.1))\n",
    "print('Média da taxa de assassinato:',df_stats['Murder.Rate'].mean())\n",
    "print('Média ponderada da taxa de assassinato:', np.average(df_stats['Murder.Rate'], weights=df_stats['Population']))\n",
    "\n",
    "print('Mediana da população:',df_stats['Population'].median())\n"
   ]
  },
  {
   "cell_type": "markdown",
   "metadata": {},
   "source": [
    "## Estimativas para grau de dispersão dos dados"
   ]
  },
  {
   "cell_type": "markdown",
   "metadata": {},
   "source": [
    "**Termos chaves para métricas de variabilidade**\n",
    "- Desvios: Também chamados de erros ou resíduos. Diferença entre o valor estimado e a estimativa local.\n",
    "- Variância: Podendo ser chamado de Erro quadrático médio (MSE). É a soma dos quadrados dos desvios diminuídos pela média, e dividido por N-1 em que N é a quantidade total de dados da amostra.\n",
    "- Desvio padrão: Podendo ser chamado de norma euclidiana. É a raiz quadra da variância.\n",
    "- Média absoluta dos desvios (MAD)\n",
    "- Range: É a diferença entre o maior e o menor valor de um dataset."
   ]
  },
  {
   "cell_type": "code",
   "execution_count": 9,
   "metadata": {},
   "outputs": [
    {
     "name": "stdout",
     "output_type": "stream",
     "text": [
      "O desvio padrão da população é:  6848235.347401142\n",
      "O range interquartílico da diferença de 75% a 25% é:  4847308.0\n",
      "O desvio médio absoluto da mediana da população é:  3849876.1459979336\n"
     ]
    }
   ],
   "source": [
    "print('O desvio padrão da população é: ', df_stats['Population'].std())\n",
    "print('O range interquartílico da diferença de 75% a 25% é: ', (df_stats['Population'].quantile(0.75)-df_stats['Population'].quantile(0.25)))\n",
    "print('O desvio médio absoluto da mediana da população é: ', robust.scale.mad(df_stats['Population']))"
   ]
  },
  {
   "cell_type": "markdown",
   "metadata": {},
   "source": [
    "**Percentils e BoxPlot**"
   ]
  },
  {
   "cell_type": "code",
   "execution_count": 10,
   "metadata": {},
   "outputs": [
    {
     "name": "stdout",
     "output_type": "stream",
     "text": [
      "Os percentis para a taxa de assassinato são:  0.05    1.600\n",
      "0.25    2.425\n",
      "0.50    4.000\n",
      "0.75    5.550\n",
      "0.95    6.510\n",
      "Name: Murder.Rate, dtype: float64\n"
     ]
    }
   ],
   "source": [
    "print('Os percentis para a taxa de assassinato são: ', df_stats['Murder.Rate'].quantile([0.05,0.25,0.5,0.75,0.95]))"
   ]
  },
  {
   "cell_type": "code",
   "execution_count": 17,
   "metadata": {},
   "outputs": [
    {
     "name": "stdout",
     "output_type": "stream",
     "text": [
      "             5.0%  25.0%  50.0%  75.0%  95.0%\n",
      "Murder.Rate   1.6  2.425    4.0   5.55   6.51\n"
     ]
    }
   ],
   "source": [
    "# Table 1.4\n",
    "percentages = [0.05, 0.25, 0.5, 0.75, 0.95]\n",
    "df = pd.DataFrame(df_stats['Murder.Rate'].quantile(percentages))\n",
    "df.index = [f'{p * 100}%' for p in percentages]\n",
    "print(df.T)"
   ]
  },
  {
   "cell_type": "code",
   "execution_count": 25,
   "metadata": {},
   "outputs": [
    {
     "name": "stdout",
     "output_type": "stream",
     "text": [
      "                5.0%       25.0%      50.0%       75.0%       95.0%\n",
      "Population  689529.0  1833004.25  4436369.5  6680312.25  19118545.6\n"
     ]
    }
   ],
   "source": [
    "# Table 1.5\n",
    "percentages = [0.05, 0.25, 0.5, 0.75, 0.95]\n",
    "df = pd.DataFrame(df_stats['Population'].quantile(percentages))\n",
    "df.index = [f'{p * 100}%' for p in percentages]\n",
    "print(df.T)"
   ]
  },
  {
   "cell_type": "code",
   "execution_count": 24,
   "metadata": {},
   "outputs": [
    {
     "data": {
      "image/png": "[encoded data removed]",
      "text/plain": [
       "<Figure size 216x288 with 1 Axes>"
      ]
     },
     "metadata": {
      "needs_background": "light"
     },
     "output_type": "display_data"
    }
   ],
   "source": [
    "# Boxplot\n",
    "ax = (df_stats['Population']/1000000).plot.box(figsize=(3,4))\n",
    "ax.set_ylabel('Population (millions)')\n",
    "plt.tight_layout()\n",
    "plt.show()\n"
   ]
  },
  {
   "cell_type": "code",
   "execution_count": null,
   "metadata": {},
   "outputs": [],
   "source": []
  }
 ],
 "metadata": {
  "interpreter": {
   "hash": "b99113a99553cfb330e5fc867d931833120df9d0f885d4b72a625538577bb4e1"
  },
  "kernelspec": {
   "display_name": "Python 3.9.8 64-bit",
   "language": "python",
   "name": "python3"
  },
  "language_info": {
   "codemirror_mode": {
    "name": "ipython",
    "version": 3
   },
   "file_extension": ".py",
   "mimetype": "text/x-python",
   "name": "python",
   "nbconvert_exporter": "python",
   "pygments_lexer": "ipython3",
   "version": "3.9.8"
  },
  "orig_nbformat": 4
 },
 "nbformat": 4,
 "nbformat_minor": 2
}
