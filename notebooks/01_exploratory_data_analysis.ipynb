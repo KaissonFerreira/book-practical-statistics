{
 "cells": [
  {
   "cell_type": "markdown",
   "metadata": {},
   "source": [
    "# Chapter 01: Exploratory Data Analysis\n",
    "\n",
    "- Nesse capítulo será abordado os princípais tópicos de estatística para descrevar e analisar previamente os dados."
   ]
  },
  {
   "cell_type": "markdown",
   "metadata": {},
   "source": [
    "Em contraste com a teoria pura e natural da probabilidade, a estatística por sua vez é uma ciência aplicada que se concentra na análise e modelagem dos dados."
   ]
  },
  {
   "cell_type": "markdown",
   "metadata": {},
   "source": [
    "### Elements of Structured Data\n",
    "\n",
    "Data comes from many sources: Sensor measuraments, events, text, images and videos.\n",
    "    "
   ]
  },
  {
   "cell_type": "markdown",
   "metadata": {},
   "source": [
    "* **Key terms for data types**\n",
    "\n",
    "    - Continuos: Em um único intervalo, pode haver infinitos tipos de dados. Interval, numeric, float.\n",
    "\n",
    "    - Discrete: Data that can take on only integer values, such as counts. Interger, count.\n",
    "\n",
    "    - Categorical: Data that can take on only specific set of values representing a set of possible categories. nominal.\n",
    "    \n",
    "    - Binary: A special case of categorical data with just two categories of values (1/0 , True / False). Boolean\n",
    "\n",
    "    - Ordinal: Categorical data that has an explicit ordering.\n",
    "    "
   ]
  },
  {
   "cell_type": "markdown",
   "metadata": {},
   "source": [
    "### Rectangular Data\n",
    "\n",
    "- The typical frame of reference for an analysis in data science is a rectangular\n",
    "data object, like a spreadsheet or database table."
   ]
  },
  {
   "cell_type": "markdown",
   "metadata": {},
   "source": [
    "* **Key terms for Rectangular Data**\n",
    "    - Data frame: Rectangular data (like a spreadsheet) is the basic data structure for statistical and machine\n",
    "    learning models.\n",
    "    - Feature: A column in the table is commonly referred to as a feature.\n",
    "        * Synonyms : attribute, input, predictor, variable\n",
    "    - Outcome: Many data science projects involve predicting an outcome — often a yes/no outcome (in Table 1- 1, it is “auction was competitive or not”). The features are sometimes used to predict the outcome in an experiment or study.\n",
    "        * Synonyms: dependent variable, response, target, output\n",
    "    - Records: A row in the table is commonly referred to as a record.\n",
    "        * Synonyms: case, example, instance, observation, pattern, sample"
   ]
  },
  {
   "cell_type": "code",
   "execution_count": null,
   "metadata": {},
   "outputs": [],
   "source": []
  }
 ],
 "metadata": {
  "language_info": {
   "name": "python"
  },
  "orig_nbformat": 4
 },
 "nbformat": 4,
 "nbformat_minor": 2
}
